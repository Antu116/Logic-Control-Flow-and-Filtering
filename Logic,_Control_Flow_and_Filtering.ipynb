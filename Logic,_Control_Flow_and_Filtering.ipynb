{
  "cells": [
    {
      "cell_type": "markdown",
      "metadata": {
        "id": "view-in-github",
        "colab_type": "text"
      },
      "source": [
        "<a href=\"https://colab.research.google.com/github/Antu116/Logic-Control-Flow-and-Filtering/blob/main/Logic%2C_Control_Flow_and_Filtering.ipynb\" target=\"_parent\"><img src=\"https://colab.research.google.com/assets/colab-badge.svg\" alt=\"Open In Colab\"/></a>"
      ]
    },
    {
      "cell_type": "markdown",
      "source": [
        " In the editor on the right, write code to see if True equals False.\n",
        " Write Python code to check if -5 * 15 is not equal to 75.\n",
        " Ask Python whether the strings \"pyscript\" and \"PyScript\" are equal.\n",
        " What happens if you compare booleans and integers? Write code to see if True and 1 are equal."
      ],
      "metadata": {
        "id": "7RnHjF5twh3I"
      },
      "id": "7RnHjF5twh3I"
    },
    {
      "source": [
        "# Comparison of booleans\n",
        "True == False\n",
        "\n",
        "# Comparison of integers\n",
        "-5*15 != 75\n",
        "\n",
        "# Comparison of strings\n",
        "\"pyscript\" == \"PyScript\"\n",
        "\n",
        "# Compare a boolean with an integer\n",
        "True == 1"
      ],
      "metadata": {
        "id": "d0eb4f16-5a99-460d-a5ba-706b7ef0bbe7",
        "executionTime": 598,
        "lastSuccessfullyExecutedCode": "# Comparison of booleans\nTrue == False\n\n# Comparison of integers\n-5*15 != 75\n\n# Comparison of strings\n\"pyscript\" == \"PyScript\"\n\n# Compare a boolean with an integer\nTrue == 1",
        "colab": {
          "base_uri": "https://localhost:8080/"
        },
        "outputId": "51d62903-ffc3-41c2-a2b4-f56ab4ac191f"
      },
      "id": "d0eb4f16-5a99-460d-a5ba-706b7ef0bbe7",
      "cell_type": "code",
      "execution_count": 7,
      "outputs": [
        {
          "output_type": "execute_result",
          "data": {
            "text/plain": [
              "True"
            ]
          },
          "metadata": {},
          "execution_count": 7
        }
      ]
    },
    {
      "source": [
        " Write Python expressions, wrapped in a print() function, to check whether:\n",
        " x is greater than or equal to -10. x has already been defined for you.\n",
        " \"test\" is less than or equal to y. y has already been defined for you.\n",
        " True is greater than False."
      ],
      "metadata": {
        "id": "b1fe313f-0609-4e5c-adb8-4c64606e60f6"
      },
      "cell_type": "markdown",
      "id": "b1fe313f-0609-4e5c-adb8-4c64606e60f6"
    },
    {
      "source": [
        "# Comparison of integers\n",
        "x = -3 * 6\n",
        "print(x >= -10)\n",
        "\n",
        "# Comparison of strings\n",
        "y = \"test\"\n",
        "print(y <= y)\n",
        "\n",
        "# Comparison of booleans\n",
        "print(True > False)"
      ],
      "metadata": {
        "executionTime": 1395,
        "lastSuccessfullyExecutedCode": "# Comparison of integers\nx = -3 * 6\nprint(x >= -10)\n\n# Comparison of strings\ny = \"test\"\nprint(y <= y)\n\n# Comparison of booleans\nprint(True > False)",
        "colab": {
          "base_uri": "https://localhost:8080/"
        },
        "id": "5021ec9b-724a-4d08-914f-0bde3ad805e5",
        "outputId": "3beb78eb-20be-4c32-f51d-19deca01665a"
      },
      "cell_type": "code",
      "id": "5021ec9b-724a-4d08-914f-0bde3ad805e5",
      "execution_count": 8,
      "outputs": [
        {
          "output_type": "stream",
          "name": "stdout",
          "text": [
            "False\n",
            "True\n",
            "True\n"
          ]
        }
      ]
    },
    {
      "source": [
        "Using comparison operators, generate boolean arrays that answer the following questions:\n",
        "\n",
        "Which areas in my_house are greater than or equal to 18?\n",
        "You can also compare two NumPy arrays element-wise. Which areas in my_house are smaller than the ones in your_house?\n",
        "Make sure to wrap both commands in a print() statement so that you can inspect the output!"
      ],
      "metadata": {
        "id": "216e2c58-c69a-4a8f-a768-4820b3e439c7"
      },
      "cell_type": "markdown",
      "id": "216e2c58-c69a-4a8f-a768-4820b3e439c7"
    },
    {
      "source": [
        "# Create arrays\n",
        "import numpy as np\n",
        "my_house = np.array([18.0, 20.0, 10.75, 9.50])\n",
        "your_house = np.array([14.0, 24.0, 14.25, 9.0])\n",
        "\n",
        "# my_house greater than or equal to 18\n",
        "print(my_house >= 18)\n",
        "\n",
        "# my_house less than your_house\n",
        "print(my_house<your_house)"
      ],
      "metadata": {
        "executionTime": 671,
        "lastSuccessfullyExecutedCode": "# Create arrays\nimport numpy as np\nmy_house = np.array([18.0, 20.0, 10.75, 9.50])\nyour_house = np.array([14.0, 24.0, 14.25, 9.0])\n\n# my_house greater than or equal to 18\nprint(my_house >= 18)\n\n# my_house less than your_house\nprint(my_house<your_house)",
        "colab": {
          "base_uri": "https://localhost:8080/"
        },
        "id": "99a8734b-904a-49e7-8ffa-c95ab2b5ad2a",
        "outputId": "073adfb9-cf7f-42f7-e6ae-d00631c1679e"
      },
      "cell_type": "code",
      "id": "99a8734b-904a-49e7-8ffa-c95ab2b5ad2a",
      "execution_count": 9,
      "outputs": [
        {
          "output_type": "stream",
          "name": "stdout",
          "text": [
            "[ True  True False False]\n",
            "[False  True  True False]\n"
          ]
        }
      ]
    },
    {
      "source": [
        "Write Python expressions, wrapped in a print() function, to check whether:\n",
        "my_kitchen is bigger than 10 and smaller than 18.\n",
        "my_kitchen is smaller than 14 or bigger than 17.\n",
        "double the area of my_kitchen is smaller than triple the area of your_kitchen."
      ],
      "metadata": {
        "id": "8398fb17-2515-4f19-824b-7c57791f358f"
      },
      "cell_type": "markdown",
      "id": "8398fb17-2515-4f19-824b-7c57791f358f"
    },
    {
      "source": [
        "# Define variables\n",
        "my_kitchen = 18.0\n",
        "your_kitchen = 14.0\n",
        "\n",
        "# my_kitchen bigger than 10 and smaller than 18?\n",
        "print(my_kitchen > 10 and my_kitchen < 18)\n",
        "\n",
        "# my_kitchen smaller than 14 or bigger than 17?\n",
        "print(my_kitchen < 14 or my_kitchen > 17)\n",
        "\n",
        "# Double my_kitchen smaller than triple your_kitchen?\n",
        "print(2*my_kitchen < your_kitchen*3)"
      ],
      "metadata": {
        "executionTime": 33,
        "lastSuccessfullyExecutedCode": "# Define variables\nmy_kitchen = 18.0\nyour_kitchen = 14.0\n\n# my_kitchen bigger than 10 and smaller than 18?\nprint(my_kitchen > 10 and my_kitchen < 18)\n\n# my_kitchen smaller than 14 or bigger than 17?\nprint(my_kitchen < 14 or my_kitchen > 17)\n\n# Double my_kitchen smaller than triple your_kitchen?\nprint(2*my_kitchen < your_kitchen*3)",
        "colab": {
          "base_uri": "https://localhost:8080/"
        },
        "id": "1af255e2-1097-489b-8eba-c41fd7a62b6c",
        "outputId": "29cf953a-9c9b-4372-a30b-e226a9bb7677"
      },
      "cell_type": "code",
      "id": "1af255e2-1097-489b-8eba-c41fd7a62b6c",
      "execution_count": 10,
      "outputs": [
        {
          "output_type": "stream",
          "name": "stdout",
          "text": [
            "False\n",
            "True\n",
            "True\n"
          ]
        }
      ]
    },
    {
      "source": [
        "Generate boolean arrays that answer the following questions:\n",
        "Which areas in my_house are greater than 18.5 or smaller than 10?\n",
        "Which areas are smaller than 11 in both my_house and your_house? Make sure to wrap both commands in print() statement, so that you can inspect the output."
      ],
      "metadata": {
        "id": "37913163-693d-4589-a1b3-3bd54e2e743e"
      },
      "cell_type": "markdown",
      "id": "37913163-693d-4589-a1b3-3bd54e2e743e"
    },
    {
      "source": [
        "# Create arrays\n",
        "import numpy as np\n",
        "my_house = np.array([18.0, 20.0, 10.75, 9.50])\n",
        "your_house = np.array([14.0, 24.0, 14.25, 9.0])\n",
        "\n",
        "# my_house greater than 18.5 or smaller than 10\n",
        "print(np.logical_or(my_house>18.5, my_house<10))\n",
        "\n",
        "# Both my_house and your_house smaller than 11\n",
        "print(np.logical_and(my_house<11,your_house<11))"
      ],
      "metadata": {
        "colab": {
          "base_uri": "https://localhost:8080/"
        },
        "id": "86f3ffd9-028e-486f-b5aa-84e8431a3656",
        "outputId": "5a0cde35-3ee8-42bd-c04f-10ca2b792408"
      },
      "cell_type": "code",
      "id": "86f3ffd9-028e-486f-b5aa-84e8431a3656",
      "execution_count": 11,
      "outputs": [
        {
          "output_type": "stream",
          "name": "stdout",
          "text": [
            "[False  True False  True]\n",
            "[False False False  True]\n"
          ]
        }
      ]
    },
    {
      "source": [
        "Driving right (1)\n",
        "Remember that cars dataset, containing the cars per 1000 people (cars_per_cap) and whether people drive right (drives_right) for different countries (country)? The code that imports this data in CSV format into Python as a DataFrame is included in the script.\n",
        "\n",
        "In the video, you saw a step-by-step approach to filter observations from a DataFrame based on boolean arrays. Let's start simple and try to find all observations in cars where drives_right is True.\n",
        "\n",
        "drives_right is a boolean column, so you'll have to extract it as a Series and then use this boolean Series to select observations from cars."
      ],
      "metadata": {
        "id": "6ec8440e-af21-449c-9f21-8bf43d6142ce"
      },
      "cell_type": "markdown",
      "id": "6ec8440e-af21-449c-9f21-8bf43d6142ce"
    },
    {
      "source": [
        "Extract the drives_right column as a Pandas Series and store it as dr.\n",
        "Use dr, a boolean Series, to subset the cars DataFrame. Store the resulting selection in sel.\n",
        "Print sel, and assert that drives_right is True for all observations."
      ],
      "metadata": {
        "id": "ad88ee3b-f62e-44d9-8e9a-8299aaf984d0"
      },
      "cell_type": "markdown",
      "id": "ad88ee3b-f62e-44d9-8e9a-8299aaf984d0"
    },
    {
      "source": [
        "# Import cars data\n",
        "import pandas as pd\n",
        "cars = pd.read_csv('/content/cars.csv', index_col = 0)\n",
        "\n",
        "# Extract drives_right column as Series: dr\n",
        "dr = cars[\"drives_right\"]\n",
        "\n",
        "# Use dr to subset cars: sel\n",
        "sel = cars[dr]\n",
        "\n",
        "# Print sel\n",
        "print(sel)"
      ],
      "metadata": {
        "colab": {
          "base_uri": "https://localhost:8080/"
        },
        "id": "9b5513dc-d953-4bb2-aa98-5a59d818c972",
        "outputId": "8fc79b21-c6ad-4266-a14f-c90ebc8bf752"
      },
      "cell_type": "code",
      "id": "9b5513dc-d953-4bb2-aa98-5a59d818c972",
      "execution_count": 12,
      "outputs": [
        {
          "output_type": "stream",
          "name": "stdout",
          "text": [
            "            cars_per_cap        country  drives_right\n",
            "country_ab                                           \n",
            "US                   809  United States          True\n",
            "RU                   200         Russia          True\n",
            "MOR                   70        Morocco          True\n",
            "EG                    45          Egypt          True\n"
          ]
        }
      ]
    },
    {
      "source": [
        "Convert the code to a one-liner that calculates the variable sel as before."
      ],
      "metadata": {
        "id": "90acf9f2-efad-464d-aa54-23dd8ff83f1d"
      },
      "cell_type": "markdown",
      "id": "90acf9f2-efad-464d-aa54-23dd8ff83f1d"
    },
    {
      "source": [
        "# Import cars data\n",
        "import pandas as pd\n",
        "cars = pd.read_csv('/content/cars.csv', index_col = 0)\n",
        "\n",
        "# Convert code to a one-liner\n",
        "sel = cars[cars['drives_right']]\n",
        "\n",
        "# Print sel\n",
        "print(sel)"
      ],
      "metadata": {
        "colab": {
          "base_uri": "https://localhost:8080/"
        },
        "id": "b20c0498-5cfe-4e6e-826f-caa11d70c209",
        "outputId": "3195ad6c-8099-475d-d804-3b47764cddb6"
      },
      "cell_type": "code",
      "id": "b20c0498-5cfe-4e6e-826f-caa11d70c209",
      "execution_count": 13,
      "outputs": [
        {
          "output_type": "stream",
          "name": "stdout",
          "text": [
            "            cars_per_cap        country  drives_right\n",
            "country_ab                                           \n",
            "US                   809  United States          True\n",
            "RU                   200         Russia          True\n",
            "MOR                   70        Morocco          True\n",
            "EG                    45          Egypt          True\n"
          ]
        }
      ]
    },
    {
      "source": [
        "Select the cars_per_cap column from cars as a Pandas Series and store it as cpc.\n",
        "Use cpc in combination with a comparison operator and 500. You want to end up with a boolean Series that's True if the corresponding country has a cars_per_cap of more than 500 and False otherwise. Store this boolean Series as many_cars.\n",
        "Use many_cars to subset cars, similar to what you did before. Store the result as car_maniac.\n",
        "Print out car_maniac to see if you got it right."
      ],
      "metadata": {
        "id": "5af2291a-8c9f-4fb8-ab0f-1c168b1e8463"
      },
      "cell_type": "markdown",
      "id": "5af2291a-8c9f-4fb8-ab0f-1c168b1e8463"
    },
    {
      "source": [
        "# Import cars data\n",
        "import pandas as pd\n",
        "cars = pd.read_csv('/content/cars.csv', index_col = 0)\n",
        "\n",
        "# Create car_maniac: observations that have a cars_per_cap over 500\n",
        "cpc = cars[\"cars_per_cap\"] > 500\n",
        "many_cars = cars[cpc]\n",
        "car_maniac = many_cars\n",
        "\n",
        "\n",
        "# Print car_maniac\n",
        "print(car_maniac)"
      ],
      "metadata": {
        "colab": {
          "base_uri": "https://localhost:8080/"
        },
        "id": "ff3cf3dc-1b63-46cc-ade6-f0949e6c4188",
        "outputId": "eec362fb-6a82-40e5-bbfd-ecd61384a934"
      },
      "cell_type": "code",
      "id": "ff3cf3dc-1b63-46cc-ade6-f0949e6c4188",
      "execution_count": 14,
      "outputs": [
        {
          "output_type": "stream",
          "name": "stdout",
          "text": [
            "            cars_per_cap        country  drives_right\n",
            "country_ab                                           \n",
            "US                   809  United States          True\n",
            "AUS                  731      Australia         False\n",
            "JAP                  588          Japan         False\n"
          ]
        }
      ]
    },
    {
      "source": [
        "cpc = cars['cars_per_cap']\n",
        "between = np.logical_and(cpc > 10, cpc < 80)\n",
        "medium = cars[between]\n",
        "\n",
        "Use the code sample provided to create a DataFrame medium, that includes all the observations of cars that have a cars_per_cap between 100 and 500.\n",
        "Print out medium."
      ],
      "metadata": {
        "id": "8ffb6c9e-df02-429d-bb89-d1824c43097a"
      },
      "cell_type": "markdown",
      "id": "8ffb6c9e-df02-429d-bb89-d1824c43097a"
    },
    {
      "source": [
        "# Import cars data\n",
        "import pandas as pd\n",
        "cars = pd.read_csv('/content/cars.csv', index_col = 0)\n",
        "\n",
        "# Import numpy, you'll need this\n",
        "import numpy as np\n",
        "\n",
        "# Create medium: observations with cars_per_cap between 100 and 500\n",
        "cpc = cars['cars_per_cap']\n",
        "between = np.logical_and(cpc > 100, cpc < 500)\n",
        "medium = cars[between]\n",
        "\n",
        "\n",
        "\n",
        "# Print medium\n",
        "print(medium)"
      ],
      "metadata": {
        "colab": {
          "base_uri": "https://localhost:8080/"
        },
        "id": "c0999645-ed2b-4539-bb2e-fd1e8188edd7",
        "outputId": "7ec4fd71-0704-4ab3-bcbf-e04250098302"
      },
      "cell_type": "code",
      "id": "c0999645-ed2b-4539-bb2e-fd1e8188edd7",
      "execution_count": 15,
      "outputs": [
        {
          "output_type": "stream",
          "name": "stdout",
          "text": [
            "            cars_per_cap country  drives_right\n",
            "country_ab                                    \n",
            "RU                   200  Russia          True\n"
          ]
        }
      ]
    }
  ],
  "metadata": {
    "colab": {
      "provenance": [],
      "include_colab_link": true
    },
    "kernelspec": {
      "display_name": "Python 3 (ipykernel)",
      "language": "python",
      "name": "python3"
    },
    "language_info": {
      "codemirror_mode": {
        "name": "ipython",
        "version": 3
      },
      "file_extension": ".py",
      "mimetype": "text/x-python",
      "name": "python",
      "nbconvert_exporter": "python",
      "pygments_lexer": "ipython3",
      "version": "3.8.10"
    }
  },
  "nbformat": 4,
  "nbformat_minor": 5
}